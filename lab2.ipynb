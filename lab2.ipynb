{
  "nbformat": 4,
  "nbformat_minor": 0,
  "metadata": {
    "colab": {
      "provenance": [],
      "authorship_tag": "ABX9TyPrq1ytMUbxP8jzdNv8hRF3",
      "include_colab_link": true
    },
    "kernelspec": {
      "name": "python3",
      "display_name": "Python 3"
    },
    "language_info": {
      "name": "python"
    }
  },
  "cells": [
    {
      "cell_type": "markdown",
      "metadata": {
        "id": "view-in-github",
        "colab_type": "text"
      },
      "source": [
        "<a href=\"https://colab.research.google.com/github/Varshitha39/AIAC/blob/main/lab2.ipynb\" target=\"_parent\"><img src=\"https://colab.research.google.com/assets/colab-badge.svg\" alt=\"Open In Colab\"/></a>"
      ]
    },
    {
      "cell_type": "code",
      "execution_count": null,
      "metadata": {
        "id": "UHF8DvuZbzsz"
      },
      "outputs": [],
      "source": []
    },
    {
      "cell_type": "markdown",
      "source": [
        "Task Description#1\n",
        "● Use Google Gemini in Colab to write a function that reads a CSV file and calculates\n",
        "mean, min, max.\n",
        "Expected Output#1\n",
        "● Functional code with output and screenshot"
      ],
      "metadata": {
        "id": "4R-ZZW1wtBqt"
      }
    },
    {
      "cell_type": "code",
      "metadata": {
        "colab": {
          "base_uri": "https://localhost:8080/"
        },
        "id": "32e941df",
        "outputId": "72b4e9bf-63a3-459d-9fdb-fc27c33929e3"
      },
      "source": [
        "import pandas as pd\n",
        "def calculate_column_stats(file_path, column_name):\n",
        "  try:\n",
        "    df = pd.read_csv(file_path)\n",
        "    if column_name not in df.columns:\n",
        "      print(f\"Error: Column '{column_name}' not found in the file.\")\n",
        "      return None\n",
        "    if not pd.api.types.is_numeric_dtype(df[column_name]):\n",
        "        print(f\"Error: Column '{column_name}' is not numerical.\")\n",
        "        return None\n",
        "    mean_val = df[column_name].mean()\n",
        "    min_val = df[column_name].min()\n",
        "    max_val = df[column_name].max()\n",
        "    stats = {\n",
        "        'mean': mean_val,\n",
        "        'min': min_val,\n",
        "        'max': max_val\n",
        "    }\n",
        "    return stats\n",
        "  except FileNotFoundError:\n",
        "    print(f\"Error: File not found at {file_path}\")\n",
        "    return None\n",
        "  except Exception as e:\n",
        "    print(f\"An error occurred: {e}\")\n",
        "    return None\n",
        "file_path = \"/content/lab2.csv\"\n",
        "column_to_analyze = 'sno' # ** IMPORTANT: Change 'Your_Column_Name' to your actual column name **\n",
        "column_stats = calculate_column_stats(file_path, column_to_analyze)\n",
        "if column_stats is not None:\n",
        "  print(f\"Statistics for column '{column_to_analyze}':\")\n",
        "  print(f\"Mean: {column_stats['mean']}\")\n",
        "  print(f\"Minimum: {column_stats['min']}\")\n",
        "  print(f\"Maximum: {column_stats['max']}\")"
      ],
      "execution_count": null,
      "outputs": [
        {
          "output_type": "stream",
          "name": "stdout",
          "text": [
            "Statistics for column 'sno':\n",
            "Mean: 45.6\n",
            "Minimum: 7\n",
            "Maximum: 78\n"
          ]
        }
      ]
    },
    {
      "cell_type": "markdown",
      "source": [
        "Task Description#2\n",
        "● Compare Gemini and Copilot outputs for a palindrome check function.\n",
        "Expected Output#2\n",
        "● Side-by-side comparison and observations"
      ],
      "metadata": {
        "id": "ZSkKDhpL1myc"
      }
    },
    {
      "cell_type": "code",
      "source": [
        "def is_palindrome(text):\n",
        "  \"\"\"\n",
        "  Checks if a given string is a palindrome (reads the same forwards and backward).\n",
        "\n",
        "  Args:\n",
        "    text: The string to check.\n",
        "\n",
        "  Returns:\n",
        "    True if the string is a palindrome, False otherwise.\n",
        "  \"\"\"\n",
        "  # Remove spaces and convert to lowercase for case-insensitive and space-agnostic check\n",
        "  cleaned_text = \"\".join(text.split()).lower()\n",
        "  return cleaned_text == cleaned_text[::-1]\n",
        "\n",
        "# Example Usage:\n",
        "string1 = \"racecar\"\n",
        "string2 = \"hello\"\n",
        "string3 = \"A man a plan a canal Panama\"\n",
        "\n",
        "print(f\"'{string1}' is a palindrome: {is_palindrome(string1)}\")\n",
        "print(f\"'{string2}' is a palindrome: {is_palindrome(string2)}\")\n",
        "print(f\"'{string3}' is a palindrome: {is_palindrome(string3)}\")"
      ],
      "metadata": {
        "colab": {
          "base_uri": "https://localhost:8080/"
        },
        "id": "bkRBgv9s1oKN",
        "outputId": "8c6d2f89-468c-499c-de37-469765308927"
      },
      "execution_count": null,
      "outputs": [
        {
          "output_type": "stream",
          "name": "stdout",
          "text": [
            "'racecar' is a palindrome: True\n",
            "'hello' is a palindrome: False\n",
            "'A man a plan a canal Panama' is a palindrome: True\n"
          ]
        }
      ]
    },
    {
      "cell_type": "markdown",
      "source": [
        "Task Description#3\n",
        "● Ask Gemini to explain a Python function (to calculate area of various shapes) line by\n",
        "line..\n",
        "Expected Output#3\n",
        "● Detailed explanation with code snippet"
      ],
      "metadata": {
        "id": "kc9TsGoiAYWy"
      }
    },
    {
      "cell_type": "code",
      "source": [],
      "metadata": {
        "id": "qlcgGn7KJlPx"
      },
      "execution_count": null,
      "outputs": []
    },
    {
      "cell_type": "code",
      "source": [
        "import math\n",
        "\n",
        "def calculate_area(shape, **kwargs):\n",
        "  \"\"\"\n",
        "  Calculates the area of various geometric shapes.\n",
        "\n",
        "  Args:\n",
        "    shape: A string representing the shape (e.g., 'circle', 'rectangle', 'triangle').\n",
        "    **kwargs: Keyword arguments for the shape's dimensions (e.g., radius, length, width, base, height).\n",
        "\n",
        "  Returns:\n",
        "    The area of the shape, or None if the shape is not supported or dimensions are missing/invalid.\n",
        "  \"\"\"\n",
        "  shape = shape.lower() # Convert shape name to lowercase for case-insensitive comparison\n",
        "\n",
        "  if shape == 'circle':\n",
        "    radius = kwargs.get('radius')\n",
        "    if radius is not None and radius >= 0:\n",
        "      return math.pi * (radius ** 2)\n",
        "    else:\n",
        "      print(\"Error: Please provide a non-negative radius for a circle.\")\n",
        "      return None\n",
        "\n",
        "  elif shape == 'rectangle':\n",
        "    length = kwargs.get('length')\n",
        "    width = kwargs.get('width')\n",
        "    if length is not None and width is not None and length >= 0 and width >= 0:\n",
        "      return length * width\n",
        "    else:\n",
        "      print(\"Error: Please provide non-negative length and width for a rectangle.\")\n",
        "      return None\n",
        "\n",
        "  elif shape == 'triangle':\n",
        "    base = kwargs.get('base')\n",
        "    height = kwargs.get('height')\n",
        "    if base is not None and height is not None and base >= 0 and height >= 0:\n",
        "      return 0.5 * base * height\n",
        "    else:\n",
        "      print(\"Error: Please provide non-negative base and height for a triangle.\")\n",
        "      return None\n",
        "\n",
        "  elif shape == 'square':\n",
        "    side = kwargs.get('side')\n",
        "    if side is not None and side >= 0:\n",
        "      return side ** 2\n",
        "    else:\n",
        "      print(\"Error: Please provide a non-negative side length for a square.\")\n",
        "      return None\n",
        "\n",
        "  else:\n",
        "    print(f\"Error: Shape '{shape}' not supported.\")\n",
        "    return None\n",
        "\n",
        "# Example Usage:\n",
        "print(f\"Area of circle with radius 5: {calculate_area('circle', radius=5)}\")\n",
        "print(f\"Area of rectangle with length 4 and width 6: {calculate_area('rectangle', length=4, width=6)}\")\n",
        "print(f\"Area of triangle with base 3 and height 8: {calculate_area('triangle', base=3, height=8)}\")\n",
        "print(f\"Area of square with side 4: {calculate_area('square', side=4)}\")\n",
        "print(f\"Area of unsupported shape: {calculate_area('pentagon', side=5)}\")\n",
        "print(f\"Area of circle with missing radius: {calculate_area('circle')}\")\n",
        "print(f\"Area of rectangle with negative length: {calculate_area('rectangle', length=-4, width=6)}\")"
      ],
      "metadata": {
        "colab": {
          "base_uri": "https://localhost:8080/"
        },
        "id": "movrLgZOAZwU",
        "outputId": "a79a5167-9c0a-490f-cd6b-56502c6894f8"
      },
      "execution_count": null,
      "outputs": [
        {
          "output_type": "stream",
          "name": "stdout",
          "text": [
            "Area of circle with radius 5: 78.53981633974483\n",
            "Area of rectangle with length 4 and width 6: 24\n",
            "Area of triangle with base 3 and height 8: 12.0\n",
            "Area of square with side 4: 16\n",
            "Error: Shape 'pentagon' not supported.\n",
            "Area of unsupported shape: None\n",
            "Error: Please provide a non-negative radius for a circle.\n",
            "Area of circle with missing radius: None\n",
            "Error: Please provide non-negative length and width for a rectangle.\n",
            "Area of rectangle with negative length: None\n"
          ]
        }
      ]
    },
    {
      "cell_type": "markdown",
      "source": [
        "Task Description#4\n",
        "● Install and configure Cursor AI. Use it to generate a Python function (e.g., sum of\n",
        "squares).\n",
        "Expected Output#4\n",
        "● Screenshots of working environments with few prompts to generate python code"
      ],
      "metadata": {
        "id": "Mco2QnVKLTFD"
      }
    },
    {
      "cell_type": "code",
      "source": [
        "def sum_of_squares(numbers):\n",
        "  \"\"\"\n",
        "  Calculates the sum of squares of a list of numbers.\n",
        "\n",
        "  Args:\n",
        "    numbers: A list of numbers.\n",
        "\n",
        "  Returns:\n",
        "    The sum of the squares of the numbers in the list.\n",
        "    Returns 0 if the input list is empty.\n",
        "  \"\"\"\n",
        "  return sum(x**2 for x in numbers)\n",
        "\n",
        "# Example Usage:\n",
        "my_list = [1, 2, 3, 4, 5]\n",
        "result = sum_of_squares(my_list)\n",
        "print(f\"The sum of squares of {my_list} is: {result}\")\n",
        "\n",
        "empty_list = []\n",
        "result_empty = sum_of_squares(empty_list)\n",
        "print(f\"The sum of squares of {empty_list} is: {result_empty}\")"
      ],
      "metadata": {
        "colab": {
          "base_uri": "https://localhost:8080/"
        },
        "id": "-iKB7xdvLUmp",
        "outputId": "462c6c60-5996-4856-b67c-dcff38c063de"
      },
      "execution_count": null,
      "outputs": [
        {
          "output_type": "stream",
          "name": "stdout",
          "text": [
            "The sum of squares of [1, 2, 3, 4, 5] is: 55\n",
            "The sum of squares of [] is: 0\n"
          ]
        }
      ]
    },
    {
      "cell_type": "markdown",
      "source": [
        "Task Description#5\n",
        "● Student need to write code to calculate sum of odd number and even numbers in the\n",
        "list\n",
        "Expected Output#5\n",
        "● Refactored code written by student with improved logic"
      ],
      "metadata": {
        "id": "VrhW3YwLM0p3"
      }
    },
    {
      "cell_type": "code",
      "source": [
        "def sum_odd_even(numbers):\n",
        "  \"\"\"\n",
        "  Calculates the sum of odd and even numbers in a list.\n",
        "\n",
        "  Args:\n",
        "    numbers: A list of numbers.\n",
        "\n",
        "  Returns:\n",
        "    A tuple containing the sum of odd numbers and the sum of even numbers.\n",
        "    Returns (0, 0) if the input list is empty.\n",
        "  \"\"\"\n",
        "  sum_odd = 0\n",
        "  sum_even = 0\n",
        "  for number in numbers:\n",
        "    if number % 2 == 0:\n",
        "      sum_even += number\n",
        "    else:\n",
        "      sum_odd += number\n",
        "  return (sum_odd, sum_even)\n",
        "\n",
        "# Example Usage:\n",
        "my_list = [1, 2, 3, 4, 5, 6, 7, 8, 9, 10]\n",
        "odd_sum, even_sum = sum_odd_even(my_list)\n",
        "print(f\"Original list: {my_list}\")\n",
        "print(f\"Sum of odd numbers: {odd_sum}\")\n",
        "print(f\"Sum of even numbers: {even_sum}\")\n",
        "\n",
        "empty_list = []\n",
        "odd_sum_empty, even_sum_empty = sum_odd_even(empty_list)\n",
        "print(f\"\\nOriginal list: {empty_list}\")\n",
        "print(f\"Sum of odd numbers: {odd_sum_empty}\")\n",
        "print(f\"Sum of even numbers: {even_sum_empty}\")"
      ],
      "metadata": {
        "colab": {
          "base_uri": "https://localhost:8080/"
        },
        "id": "l6HCxl5NNBkB",
        "outputId": "c2aa784d-0237-49d2-f43c-1f5c97e5ae58"
      },
      "execution_count": null,
      "outputs": [
        {
          "output_type": "stream",
          "name": "stdout",
          "text": [
            "Original list: [1, 2, 3, 4, 5, 6, 7, 8, 9, 10]\n",
            "Sum of odd numbers: 25\n",
            "Sum of even numbers: 30\n",
            "\n",
            "Original list: []\n",
            "Sum of odd numbers: 0\n",
            "Sum of even numbers: 0\n"
          ]
        }
      ]
    },
    {
      "cell_type": "code",
      "source": [],
      "metadata": {
        "id": "_ZarteDdM71r"
      },
      "execution_count": null,
      "outputs": []
    }
  ]
}