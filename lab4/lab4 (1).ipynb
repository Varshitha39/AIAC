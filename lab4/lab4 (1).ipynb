{
  "nbformat": 4,
  "nbformat_minor": 0,
  "metadata": {
    "colab": {
      "provenance": []
    },
    "kernelspec": {
      "name": "python3",
      "display_name": "Python 3"
    },
    "language_info": {
      "name": "python"
    }
  },
  "cells": [
    {
      "cell_type": "code",
      "execution_count": 5,
      "metadata": {
        "id": "DoksroztOljx"
      },
      "outputs": [],
      "source": []
    },
    {
      "cell_type": "markdown",
      "source": [],
      "metadata": {
        "id": "kR4_8AMXOnZr"
      }
    },
    {
      "cell_type": "code",
      "source": [],
      "metadata": {
        "id": "Mc9g6GmCTS9Q"
      },
      "execution_count": null,
      "outputs": []
    },
    {
      "cell_type": "markdown",
      "source": [
        "Task Description#1\n",
        "● Zero-shot: Prompt AI to write a function that checks whether a given year is a leap\n",
        "year.\n",
        "Expected Output#1\n",
        "● AI-generated function with no examples provided\n"
      ],
      "metadata": {
        "id": "lU4ALjpGTacE"
      }
    },
    {
      "cell_type": "code",
      "source": [
        "def is_leap_year(year):\n",
        "  \"\"\"\n",
        "  Checks if a given year is a leap year.\n",
        "\n",
        "  Args:\n",
        "    year: The year to check (integer).\n",
        "\n",
        "  Returns:\n",
        "    True if the year is a leap year, False otherwise.\n",
        "  \"\"\"\n",
        "  if (year % 4 == 0 and year % 100 != 0) or (year % 400 == 0):\n",
        "    return True\n",
        "  else:\n",
        "    return False\n",
        "\n",
        "# Get input from the user\n",
        "try:\n",
        "  year_to_check = int(input(\"Enter a year: \"))\n",
        "\n",
        "  # Check if it's a leap year and display the output\n",
        "  if is_leap_year(year_to_check):\n",
        "    print(f\"{year_to_check} is a leap year.\")\n",
        "  else:\n",
        "    print(f\"{year_to_check} is not a leap year.\")\n",
        "\n",
        "except ValueError:\n",
        "  print(\"Invalid input. Please enter a valid integer for the year.\")"
      ],
      "metadata": {
        "colab": {
          "base_uri": "https://localhost:8080/"
        },
        "id": "tIaf_4_YTdF1",
        "outputId": "8dc545aa-7eea-4e80-a02a-9d450f7de8e8"
      },
      "execution_count": 18,
      "outputs": [
        {
          "output_type": "stream",
          "name": "stdout",
          "text": [
            "Enter a year: 2007\n",
            "2007 is not a leap year.\n"
          ]
        }
      ]
    },
    {
      "cell_type": "markdown",
      "source": [
        "Task Description#2\n",
        "● One-shot: Give one input-output example to guide AI in writing a function that\n",
        "converts centimeters to inches.\n",
        "Expected Output#2\n",
        "● Function with correct conversion logic\n"
      ],
      "metadata": {
        "id": "V3tpfTKpUa0Y"
      }
    },
    {
      "cell_type": "code",
      "source": [
        "def cm_to_inches(cm):\n",
        "  \"\"\"\n",
        "  Converts centimeters to inches.\n",
        "\n",
        "  Args:\n",
        "    cm: The value in centimeters (float or integer).\n",
        "\n",
        "  Returns:\n",
        "    The value in inches (float).\n",
        "  \"\"\"\n",
        "  inches = cm * 0.393701\n",
        "  return inches\n",
        "\n",
        "# Get input from the user\n",
        "try:\n",
        "  cm_value = float(input(\"Enter value in centimeters: \"))\n",
        "\n",
        "  # Convert to inches and display the output\n",
        "  inch_value = cm_to_inches(cm_value)\n",
        "  print(f\"{cm_value} centimeters converts to {inch_value} inches.\")\n",
        "\n",
        "except ValueError:\n",
        "  print(\"Invalid input. Please enter a valid number for the centimeters.\")"
      ],
      "metadata": {
        "colab": {
          "base_uri": "https://localhost:8080/"
        },
        "id": "F-tygTkJUfsU",
        "outputId": "b1f3104d-86f1-4d45-89b0-5972697e16fc"
      },
      "execution_count": 23,
      "outputs": [
        {
          "output_type": "stream",
          "name": "stdout",
          "text": [
            "Enter value in centimeters: 50\n",
            "50.0 centimeters converts to 19.68505 inches.\n"
          ]
        }
      ]
    },
    {
      "cell_type": "markdown",
      "source": [
        "Task Description#3\n",
        "● Few-shot: Provide 2–3 examples to generate a function that formats full names as\n",
        "“Last, First”.\n",
        "Expected Output#3\n",
        "● Well-structured function respecting the examples."
      ],
      "metadata": {
        "id": "ABipPMWCU8aH"
      }
    },
    {
      "cell_type": "code",
      "source": [
        "def format_name(full_name):\n",
        "  \"\"\"\n",
        "  Formats a full name string as 'Last, First'.\n",
        "\n",
        "  Args:\n",
        "    full_name: The full name string (e.g., \"John Smith\").\n",
        "\n",
        "  Returns:\n",
        "    The formatted name string (e.g., \"Smith, John\").\n",
        "    Returns the original string if it cannot be split into at least two parts.\n",
        "  \"\"\"\n",
        "  name_parts = full_name.split()\n",
        "  if len(name_parts) >= 2:\n",
        "    last_name = name_parts[-1]\n",
        "    first_names = name_parts[:-1]\n",
        "    return f\"{last_name}, {' '.join(first_names)}\"\n",
        "  else:\n",
        "    return full_name # Return original if not enough parts to format\n",
        "\n",
        "# Example usage with user input:\n",
        "try:\n",
        "  name_to_format = input(\"Enter a full name: \")\n",
        "  formatted = format_name(name_to_format)\n",
        "  print(f\"Formatted name: {formatted}\")\n",
        "except Exception as e:\n",
        "  print(f\"An error occurred: {e}\")"
      ],
      "metadata": {
        "colab": {
          "base_uri": "https://localhost:8080/"
        },
        "id": "AuFCDYV3VFX6",
        "outputId": "5cca0620-c90e-475a-8d1b-1e90f6683f38"
      },
      "execution_count": 25,
      "outputs": [
        {
          "output_type": "stream",
          "name": "stdout",
          "text": [
            "Enter a full name: varsha reddy\n",
            "Formatted name: reddy, varsha\n"
          ]
        }
      ]
    },
    {
      "cell_type": "markdown",
      "source": [
        "Task Description#4\n",
        "● Compare zero-shot and few-shot prompts for writing a function that counts the\n",
        "number of vowels in a string.\n",
        "Expected Output#4\n",
        "● Functional output and comparative reflection.\n"
      ],
      "metadata": {
        "id": "_n9Qm8XGV7ez"
      }
    },
    {
      "cell_type": "code",
      "source": [
        "def count_vowels(input_string):\n",
        "  \"\"\"\n",
        "  Counts the number of vowels in a given string.\n",
        "\n",
        "  Args:\n",
        "    input_string: The string to count vowels in.\n",
        "\n",
        "  Returns:\n",
        "    The number of vowels in the string (integer).\n",
        "  \"\"\"\n",
        "  vowels = \"aeiouAEIOU\"\n",
        "  vowel_count = 0\n",
        "  for char in input_string:\n",
        "    if char in vowels:\n",
        "      vowel_count += 1\n",
        "  return vowel_count\n",
        "\n",
        "# Example usage with user input:\n",
        "try:\n",
        "  text = input(\"Enter a string: \")\n",
        "  num_vowels = count_vowels(text)\n",
        "  print(f\"The number of vowels in the string is: {num_vowels}\")\n",
        "except Exception as e:\n",
        "  print(f\"An error occurred: {e}\")"
      ],
      "metadata": {
        "colab": {
          "base_uri": "https://localhost:8080/"
        },
        "id": "5kr3TzJvWBZZ",
        "outputId": "fc93ad24-d4e4-49f8-bf7e-8f90e841c0ac"
      },
      "execution_count": 27,
      "outputs": [
        {
          "output_type": "stream",
          "name": "stdout",
          "text": [
            "Enter a string: welcome to SR University\n",
            "The number of vowels in the string is: 8\n"
          ]
        }
      ]
    },
    {
      "cell_type": "markdown",
      "source": [
        "Few-shot prompt"
      ],
      "metadata": {
        "id": "puNApADMWUqU"
      }
    },
    {
      "cell_type": "code",
      "source": [
        "def count_vowels(input_string):\n",
        "  \"\"\"\n",
        "  Counts the number of vowels in a given string.\n",
        "\n",
        "  Args:\n",
        "    input_string: The string to count vowels in.\n",
        "\n",
        "  Returns:\n",
        "    The number of vowels in the string (integer).\n",
        "  \"\"\"\n",
        "  vowels = \"aeiouAEIOU\"\n",
        "  vowel_count = 0\n",
        "  for char in input_string:\n",
        "    if char in vowels:\n",
        "      vowel_count += 1\n",
        "  return vowel_count\n",
        "\n",
        "# Example usage with user input:\n",
        "try:\n",
        "  text = input(\"Enter a string: \")\n",
        "  num_vowels = count_vowels(text)\n",
        "  print(f\"The number of vowels in the string is: {num_vowels}\")\n",
        "\n",
        "  # Illustrating with user examples\n",
        "  print(f\"Example 1: 'Hello world' has {count_vowels('Hello world')} vowels\")\n",
        "  print(f\"Example 2: 'PYTHON programming' has {count_vowels('PYTHON programming')} vowels\")\n",
        "  print(f\"Example 3: 'Rhythm' has {count_vowels('Rhythm')} vowels\")\n",
        "\n",
        "except Exception as e:\n",
        "  print(f\"An error occurred: {e}\")"
      ],
      "metadata": {
        "colab": {
          "base_uri": "https://localhost:8080/"
        },
        "id": "9APqXz6ZWeEH",
        "outputId": "def0c755-eab5-43ae-84c0-67e52581f8fd"
      },
      "execution_count": 28,
      "outputs": [
        {
          "output_type": "stream",
          "name": "stdout",
          "text": [
            "Enter a string: Welcome to SR University\n",
            "The number of vowels in the string is: 8\n",
            "Example 1: 'Hello world' has 3 vowels\n",
            "Example 2: 'PYTHON programming' has 4 vowels\n",
            "Example 3: 'Rhythm' has 0 vowels\n"
          ]
        }
      ]
    },
    {
      "cell_type": "markdown",
      "source": [
        "Task Description#5\n",
        "● Use few-shot prompting to generate a function that reads a .txt file and returns the\n",
        "number of lines.\n",
        "Expected Output#5\n",
        "● Working file-processing function with AI-guided logic.\n"
      ],
      "metadata": {
        "id": "30z0V4i1WyXJ"
      }
    },
    {
      "cell_type": "code",
      "source": [
        "def count_lines_in_file(file_path):\n",
        "  \"\"\"\n",
        "  Reads a text file and returns the number of lines.\n",
        "\n",
        "  Args:\n",
        "    file_path: The path to the text file.\n",
        "\n",
        "  Returns:\n",
        "    The number of lines in the file (integer).\n",
        "    Returns -1 if the file is not found.\n",
        "  \"\"\"\n",
        "  try:\n",
        "    with open(file_path, 'r') as f:\n",
        "      line_count = sum(1 for line in f)\n",
        "    return line_count\n",
        "  except FileNotFoundError:\n",
        "    print(f\"Error: File not found at {file_path}\")\n",
        "    return -1\n",
        "  except Exception as e:\n",
        "    print(f\"An error occurred: {e}\")\n",
        "    return -1\n",
        "\n",
        "# Example usage with the provided file path:\n",
        "file_path = \"/content/Hello.txt\"\n",
        "num_lines = count_lines_in_file(file_path)\n",
        "\n",
        "if num_lines != -1:\n",
        "  print(f\"The file '{file_path}' has {num_lines} lines.\")"
      ],
      "metadata": {
        "colab": {
          "base_uri": "https://localhost:8080/"
        },
        "id": "uBq_lsySW6Hk",
        "outputId": "32119223-6e0e-415e-d328-47fb2cae9d58"
      },
      "execution_count": 29,
      "outputs": [
        {
          "output_type": "stream",
          "name": "stdout",
          "text": [
            "The file '/content/Hello.txt' has 8 lines.\n"
          ]
        }
      ]
    }
  ]
}